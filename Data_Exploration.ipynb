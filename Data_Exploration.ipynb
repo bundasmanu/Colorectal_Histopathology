{
 "cells": [
  {
   "cell_type": "code",
   "execution_count": 20,
   "metadata": {
    "collapsed": true,
    "pycharm": {
     "is_executing": false
    }
   },
   "outputs": [],
   "source": [
    "# imports\n",
    "import pandas as pd\n",
    "import config\n",
    "import config_func\n",
    "import os\n",
    "import numpy as np\n",
    "import matplotlib.pyplot as plt\n"
   ]
  },
  {
   "cell_type": "code",
   "execution_count": 2,
   "outputs": [],
   "source": [
    "# acess image data\n",
    "PROJECT_DIR = os.getcwd()\n",
    "INPUT_DIR = os.path.join(PROJECT_DIR, config.INPUT_DIR) # path of input directory\n",
    "IMAGE_REGEX = os.path.join(INPUT_DIR, config.IMAGES_ACESS) # regex path for all images on images directory\n"
   ],
   "metadata": {
    "collapsed": false,
    "pycharm": {
     "name": "#%%\n",
     "is_executing": false
    }
   }
  },
  {
   "cell_type": "code",
   "execution_count": 3,
   "outputs": [
    {
     "name": "stdout",
     "text": [
      "      image  level\n0   10_left      0\n1  10_right      0\n2   13_left      0\n3  13_right      0\n4   15_left      1\n"
     ],
     "output_type": "stream"
    }
   ],
   "source": [
    "# get csv data file with train labels, and convert it to DataFrame object\n",
    "CSV_FILE_PATH = os.path.join(INPUT_DIR, config.TRAIN_LABELS_CSV)\n",
    "data = pd.read_csv(CSV_FILE_PATH)\n",
    "print(data.head(5))\n"
   ],
   "metadata": {
    "collapsed": false,
    "pycharm": {
     "name": "#%%\n",
     "is_executing": false
    }
   }
  },
  {
   "cell_type": "code",
   "execution_count": 4,
   "outputs": [
    {
     "name": "stdout",
     "text": [
      "['C:\\\\Users\\\\gusta\\\\Desktop\\\\Projetos_Python\\\\Diabetic_Retinopathy\\\\input\\\\images\\\\10_left.jpeg', 'C:\\\\Users\\\\gusta\\\\Desktop\\\\Projetos_Python\\\\Diabetic_Retinopathy\\\\input\\\\images\\\\10_right.jpeg', 'C:\\\\Users\\\\gusta\\\\Desktop\\\\Projetos_Python\\\\Diabetic_Retinopathy\\\\input\\\\images\\\\13_left.jpeg', 'C:\\\\Users\\\\gusta\\\\Desktop\\\\Projetos_Python\\\\Diabetic_Retinopathy\\\\input\\\\images\\\\13_right.jpeg', 'C:\\\\Users\\\\gusta\\\\Desktop\\\\Projetos_Python\\\\Diabetic_Retinopathy\\\\input\\\\images\\\\15_left.jpeg']\n"
     ],
     "output_type": "stream"
    }
   ],
   "source": [
    "# get all images paths in coherent order with DataFrame\n",
    "images_files = config_func.getImages(IMAGE_REGEX) # glob retrieves data in this directory\n",
    "print(images_files[:5])\n"
   ],
   "metadata": {
    "collapsed": false,
    "pycharm": {
     "name": "#%%\n",
     "is_executing": false
    }
   }
  },
  {
   "cell_type": "code",
   "execution_count": 6,
   "outputs": [
    {
     "name": "stdout",
     "text": [
      "             image  level                                                                                 image_path\n0      10_left      0      C:\\Users\\gusta\\Desktop\\Projetos_Python\\Diabetic_Retinopathy\\input\\images\\10_left.jpeg    \n1      10_right     0      C:\\Users\\gusta\\Desktop\\Projetos_Python\\Diabetic_Retinopathy\\input\\images\\10_right.jpeg   \n2      13_left      0      C:\\Users\\gusta\\Desktop\\Projetos_Python\\Diabetic_Retinopathy\\input\\images\\13_left.jpeg    \n3      13_right     0      C:\\Users\\gusta\\Desktop\\Projetos_Python\\Diabetic_Retinopathy\\input\\images\\13_right.jpeg   \n4      15_left      1      C:\\Users\\gusta\\Desktop\\Projetos_Python\\Diabetic_Retinopathy\\input\\images\\15_left.jpeg    \n35121  44347_right  0      C:\\Users\\gusta\\Desktop\\Projetos_Python\\Diabetic_Retinopathy\\input\\images\\44347_right.jpeg\n35122  44348_left   0      C:\\Users\\gusta\\Desktop\\Projetos_Python\\Diabetic_Retinopathy\\input\\images\\44348_left.jpeg \n35123  44348_right  0      C:\\Users\\gusta\\Desktop\\Projetos_Python\\Diabetic_Retinopathy\\input\\images\\44348_right.jpeg\n35124  44349_left   0      C:\\Users\\gusta\\Desktop\\Projetos_Python\\Diabetic_Retinopathy\\input\\images\\44349_left.jpeg \n35125  44349_right  1      C:\\Users\\gusta\\Desktop\\Projetos_Python\\Diabetic_Retinopathy\\input\\images\\44349_right.jpeg\n"
     ],
     "output_type": "stream"
    },
    {
     "name": "stderr",
     "text": [
      "c:\\users\\gusta\\desktop\\projetos_python\\diabetic_retinopathy\\venv\\test\\lib\\site-packages\\ipykernel_launcher.py:5: FutureWarning: Passing a negative integer is deprecated in version 1.0 and will not be supported in future version. Instead, use None to not limit the column width.\n  \"\"\"\n"
     ],
     "output_type": "stream"
    }
   ],
   "source": [
    "# add image path column to DataFrame, associated with it's respective column\n",
    "data = config_func.addNewColumn_Populate_DataFrame(data,config.IMAGE_PATH, images_files)\n",
    "pd.set_option('display.max_columns', None)\n",
    "pd.set_option('display.expand_frame_repr', False)\n",
    "pd.set_option('max_colwidth', -1)\n",
    "print(data.head(5).append(data.tail(5)))\n"
   ],
   "metadata": {
    "collapsed": false,
    "pycharm": {
     "name": "#%%\n",
     "is_executing": false
    }
   }
  },
  {
   "cell_type": "code",
   "execution_count": 7,
   "outputs": [
    {
     "name": "stdout",
     "text": [
      "<class 'pandas.core.frame.DataFrame'>\nRangeIndex: 35126 entries, 0 to 35125\nData columns (total 3 columns):\n #   Column      Non-Null Count  Dtype \n---  ------      --------------  ----- \n 0   image       35126 non-null  object\n 1   level       35126 non-null  int64 \n 2   image_path  35126 non-null  object\ndtypes: int64(1), object(2)\nmemory usage: 823.4+ KB\n"
     ],
     "output_type": "stream"
    }
   ],
   "source": [
    "# data info\n",
    "data.info()\n"
   ],
   "metadata": {
    "collapsed": false,
    "pycharm": {
     "name": "#%%\n",
     "is_executing": false
    }
   }
  },
  {
   "cell_type": "code",
   "execution_count": 8,
   "outputs": [
    {
     "data": {
      "text/plain": "(35126, 3)"
     },
     "metadata": {},
     "output_type": "execute_result",
     "execution_count": 8
    }
   ],
   "source": [
    "# shape of data --> number of images\n",
    "data.shape\n"
   ],
   "metadata": {
    "collapsed": false,
    "pycharm": {
     "name": "#%%\n",
     "is_executing": false
    }
   }
  },
  {
   "cell_type": "code",
   "execution_count": 13,
   "outputs": [
    {
     "data": {
      "text/plain": "Index(['image', 'level', 'image_path'], dtype='object')"
     },
     "metadata": {},
     "output_type": "execute_result",
     "execution_count": 13
    }
   ],
   "source": [
    "# check columns of DataFrame\n",
    "data.columns\n"
   ],
   "metadata": {
    "collapsed": false,
    "pycharm": {
     "name": "#%%\n",
     "is_executing": false
    }
   }
  },
  {
   "cell_type": "code",
   "execution_count": 11,
   "outputs": [
    {
     "data": {
      "text/plain": "image         0\nlevel         0\nimage_path    0\ndtype: int64"
     },
     "metadata": {},
     "output_type": "execute_result",
     "execution_count": 11
    }
   ],
   "source": [
    "# check null values\n",
    "data.isnull().sum()\n"
   ],
   "metadata": {
    "collapsed": false,
    "pycharm": {
     "name": "#%%\n",
     "is_executing": false
    }
   }
  },
  {
   "cell_type": "code",
   "execution_count": 14,
   "outputs": [
    {
     "data": {
      "text/plain": "False"
     },
     "metadata": {},
     "output_type": "execute_result",
     "execution_count": 14
    }
   ],
   "source": [
    "# check for duplicated values\n",
    "exist_duplicated = data.duplicated().any()\n",
    "exist_duplicated\n"
   ],
   "metadata": {
    "collapsed": false,
    "pycharm": {
     "name": "#%%\n",
     "is_executing": false
    }
   }
  },
  {
   "cell_type": "code",
   "execution_count": 17,
   "outputs": [
    {
     "data": {
      "text/plain": "[0, 1, 2, 3, 4]"
     },
     "metadata": {},
     "output_type": "execute_result",
     "execution_count": 17
    }
   ],
   "source": [
    "# how many classes exist\n",
    "number_classes = data[config.TARGET].unique()\n",
    "sorted(number_classes)\n"
   ],
   "metadata": {
    "collapsed": false,
    "pycharm": {
     "name": "#%%\n",
     "is_executing": false
    }
   }
  },
  {
   "cell_type": "code",
   "execution_count": 21,
   "outputs": [
    {
     "data": {
      "text/plain": "<Figure size 432x288 with 1 Axes>",
      "image/png": "[encoded data removed]"
     },
     "metadata": {
      "needs_background": "light"
     },
     "output_type": "display_data"
    }
   ],
   "source": [
    "# plot samples per class\n",
    "x_pos = np.arange(len(number_classes))\n",
    "samples_per_class = [\n",
    "    data.loc[data.level == 0, 'level'].count(),\n",
    "    data.loc[data.level == 1, 'level'].count(),\n",
    "    data.loc[data.level == 2, 'level'].count(),\n",
    "    data.loc[data.level == 3, 'level'].count(),\n",
    "    data.loc[data.level == 4, 'level'].count()\n",
    "]\n",
    "plt.bar(x_pos, samples_per_class, align='center')\n",
    "plt.xticks(x_pos, number_classes)\n",
    "plt.xlabel('Classes')\n",
    "plt.ylabel('Number Samples')\n",
    "plt.show()\n"
   ],
   "metadata": {
    "collapsed": false,
    "pycharm": {
     "name": "#%%\n",
     "is_executing": false
    }
   }
  },
  {
   "cell_type": "code",
   "execution_count": 22,
   "outputs": [
    {
     "data": {
      "text/plain": "[25810, 2443, 5292, 873, 708]"
     },
     "metadata": {},
     "output_type": "execute_result",
     "execution_count": 22
    }
   ],
   "source": [
    "# get number of samples by class\n",
    "samples_per_class\n"
   ],
   "metadata": {
    "collapsed": false,
    "pycharm": {
     "name": "#%%\n",
     "is_executing": false
    }
   }
  },
  {
   "cell_type": "code",
   "execution_count": null,
   "outputs": [],
   "source": [
    "# definition of new DataFrame, with RGB pixels (128*128) and label\n",
    "\n"
   ],
   "metadata": {
    "collapsed": false,
    "pycharm": {
     "name": "#%%\n"
    }
   }
  },
  {
   "cell_type": "code",
   "execution_count": null,
   "outputs": [],
   "source": [
    "#print some images per class\n"
   ],
   "metadata": {
    "collapsed": false,
    "pycharm": {
     "name": "#%%\n"
    }
   }
  }
 ],
 "metadata": {
  "language_info": {
   "codemirror_mode": {
    "name": "ipython",
    "version": 2
   },
   "file_extension": ".py",
   "mimetype": "text/x-python",
   "name": "python",
   "nbconvert_exporter": "python",
   "pygments_lexer": "ipython2",
   "version": "2.7.6"
  },
  "kernelspec": {
   "name": "python3",
   "language": "python",
   "display_name": "Python 3"
  },
  "pycharm": {
   "stem_cell": {
    "cell_type": "raw",
    "source": [],
    "metadata": {
     "collapsed": false
    }
   }
  }
 },
 "nbformat": 4,
 "nbformat_minor": 0
}